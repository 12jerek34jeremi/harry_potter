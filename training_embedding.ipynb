{
 "cells": [
  {
   "cell_type": "markdown",
   "metadata": {
    "collapsed": false,
    "id": "ChpAIG52t_w0"
   },
   "source": [
    "#author: Jedrzej Chmiel"
   ]
  },
  {
   "cell_type": "code",
   "execution_count": 1,
   "outputs": [],
   "source": [
    "# %load_ext autoreload\n",
    "# %autoreload 2"
   ],
   "metadata": {
    "pycharm": {
     "name": "#%%\n",
     "is_executing": true
    },
    "id": "GXNAt4ojA9pK",
    "executionInfo": {
     "status": "ok",
     "timestamp": 1652707120236,
     "user_tz": -120,
     "elapsed": 6,
     "user": {
      "displayName": "Jędrzej Chmiel",
      "userId": "01032980401837788346"
     }
    }
   }
  },
  {
   "cell_type": "code",
   "execution_count": null,
   "metadata": {
    "id": "mFwFtxvSlrxX",
    "colab": {
     "base_uri": "https://localhost:8080/"
    },
    "executionInfo": {
     "status": "ok",
     "timestamp": 1652707130386,
     "user_tz": -120,
     "elapsed": 10154,
     "user": {
      "displayName": "Jędrzej Chmiel",
      "userId": "01032980401837788346"
     }
    },
    "outputId": "75265409-beb9-4dad-ef2a-4b8a7343e8d4",
    "pycharm": {
     "is_executing": true
    }
   },
   "outputs": [],
   "source": [
    "!pip install nltk==3.7"
   ]
  },
  {
   "cell_type": "code",
   "execution_count": 6,
   "outputs": [],
   "source": [
    "import getpass\n",
    "import os\n",
    "github_username = '12jerek34jeremi'\n",
    "github_password = getpass.getpass()\n",
    "os.environ['GITHUB_AUTH'] = github_username+':'+github_password"
   ],
   "metadata": {
    "collapsed": false,
    "pycharm": {
     "name": "#%%\n"
    }
   }
  },
  {
   "cell_type": "code",
   "execution_count": null,
   "outputs": [],
   "source": [],
   "metadata": {
    "collapsed": false,
    "pycharm": {
     "name": "#%%\n"
    }
   }
  },
  {
   "cell_type": "code",
   "execution_count": 7,
   "outputs": [
    {
     "name": "stdout",
     "output_type": "stream",
     "text": [
      "Collecting git+https://****@github.com/12jerek34jeremi/harry_potter.git#subdirectory=hpcw\n",
      "  Cloning https://****@github.com/12jerek34jeremi/harry_potter.git to c:\\users\\jedre\\appdata\\local\\temp\\pip-req-build-z3487fia\n"
     ]
    },
    {
     "name": "stderr",
     "output_type": "stream",
     "text": [
      "  Running command git clone --filter=blob:none --quiet 'https://****@github.com/12jerek34jeremi/harry_potter.git' 'C:\\Users\\jedre\\AppData\\Local\\Temp\\pip-req-build-z3487fia'\n",
      "  fatal: unable to access 'https://github.com/12jerek34jeremi/harry_potter.git/': Failed to connect to github.com port 443 after 21144 ms: Timed out\n",
      "  error: subprocess-exited-with-error\n",
      "  \n",
      "  git clone --filter=blob:none --quiet 'https://****@github.com/12jerek34jeremi/harry_potter.git' 'C:\\Users\\jedre\\AppData\\Local\\Temp\\pip-req-build-z3487fia' did not run successfully.\n",
      "  exit code: 128\n",
      "  \n",
      "  See above for output.\n",
      "  \n",
      "  note: This error originates from a subprocess, and is likely not a problem with pip.\n",
      "error: subprocess-exited-with-error\n",
      "\n",
      "git clone --filter=blob:none --quiet 'https://****@github.com/12jerek34jeremi/harry_potter.git' 'C:\\Users\\jedre\\AppData\\Local\\Temp\\pip-req-build-z3487fia' did not run successfully.\n",
      "exit code: 128\n",
      "\n",
      "See above for output.\n",
      "\n",
      "note: This error originates from a subprocess, and is likely not a problem with pip.\n"
     ]
    }
   ],
   "source": [
    "!pip install git+https://$GITHUB_AUTH@github.com/12jerek34jeremi/harry_potter.git#subdirectory=hpcw"
   ],
   "metadata": {
    "collapsed": false,
    "pycharm": {
     "name": "#%%\n"
    }
   }
  },
  {
   "cell_type": "code",
   "source": [
    "!python --version"
   ],
   "metadata": {
    "colab": {
     "base_uri": "https://localhost:8080/"
    },
    "id": "iwZz-qLqTBv1",
    "executionInfo": {
     "status": "ok",
     "timestamp": 1652707135895,
     "user_tz": -120,
     "elapsed": 490,
     "user": {
      "displayName": "Jędrzej Chmiel",
      "userId": "01032980401837788346"
     }
    },
    "outputId": "5585fe96-7484-4c55-ccc3-4d8bfcc78541",
    "pycharm": {
     "is_executing": true
    }
   },
   "execution_count": null,
   "outputs": []
  },
  {
   "cell_type": "code",
   "execution_count": 1,
   "metadata": {
    "collapsed": true,
    "id": "1UrRDgIbt_w3",
    "executionInfo": {
     "status": "ok",
     "timestamp": 1652707139588,
     "user_tz": -120,
     "elapsed": 3696,
     "user": {
      "displayName": "Jędrzej Chmiel",
      "userId": "01032980401837788346"
     }
    }
   },
   "outputs": [
    {
     "ename": "ModuleNotFoundError",
     "evalue": "No module named 'google.colab'",
     "output_type": "error",
     "traceback": [
      "\u001B[1;31m---------------------------------------------------------------------------\u001B[0m",
      "\u001B[1;31mModuleNotFoundError\u001B[0m                       Traceback (most recent call last)",
      "Input \u001B[1;32mIn [1]\u001B[0m, in \u001B[0;36m<cell line: 17>\u001B[1;34m()\u001B[0m\n\u001B[0;32m     15\u001B[0m \u001B[38;5;28;01mfrom\u001B[39;00m \u001B[38;5;21;01mdatetime\u001B[39;00m \u001B[38;5;28;01mimport\u001B[39;00m datetime\n\u001B[0;32m     16\u001B[0m \u001B[38;5;28;01mfrom\u001B[39;00m \u001B[38;5;21;01mhpcw\u001B[39;00m\u001B[38;5;21;01m.\u001B[39;00m\u001B[38;5;21;01mutils\u001B[39;00m \u001B[38;5;28;01mimport\u001B[39;00m count_distance\n\u001B[1;32m---> 17\u001B[0m \u001B[38;5;28;01mfrom\u001B[39;00m \u001B[38;5;21;01mgoogle\u001B[39;00m\u001B[38;5;21;01m.\u001B[39;00m\u001B[38;5;21;01mcolab\u001B[39;00m \u001B[38;5;28;01mimport\u001B[39;00m drive\n",
      "\u001B[1;31mModuleNotFoundError\u001B[0m: No module named 'google.colab'"
     ]
    }
   ],
   "source": [
    "import torch\n",
    "from torch.utils.data import DataLoader\n",
    "import torch.optim as optim\n",
    "import torch.nn as nn\n",
    "from hpcw.datasets.words_batch_dataset import WordsBatchDataset\n",
    "from hpcw.datasets.one_item_dataset import OneItemDataset\n",
    "from hpcw.corpus import Corpus\n",
    "from hpcw.models.embedding import Embedding\n",
    "from hpcw.models.words_batch import WordsBatch\n",
    "from tqdm import tqdm\n",
    "import os\n",
    "import os.path\n",
    "import pickle\n",
    "from typing import List, Dict, Tuple\n",
    "from datetime import datetime\n",
    "from hpcw.utils import count_distance\n",
    "from google.colab import drive"
   ]
  },
  {
   "cell_type": "code",
   "execution_count": null,
   "metadata": {
    "id": "vXXPsWOOjh8l",
    "pycharm": {
     "is_executing": true
    },
    "colab": {
     "base_uri": "https://localhost:8080/"
    },
    "executionInfo": {
     "status": "ok",
     "timestamp": 1652707140062,
     "user_tz": -120,
     "elapsed": 479,
     "user": {
      "displayName": "Jędrzej Chmiel",
      "userId": "01032980401837788346"
     }
    },
    "outputId": "d48f98dc-31da-4249-fe39-d34fdba0602d"
   },
   "outputs": [],
   "source": [
    "import nltk\n",
    "nltk.download('punkt')"
   ]
  },
  {
   "cell_type": "code",
   "execution_count": 8,
   "metadata": {
    "id": "KqLBn7gtuMyw",
    "pycharm": {
     "is_executing": true
    },
    "colab": {
     "base_uri": "https://localhost:8080/",
     "height": 35
    },
    "executionInfo": {
     "status": "ok",
     "timestamp": 1652707140063,
     "user_tz": -120,
     "elapsed": 8,
     "user": {
      "displayName": "Jędrzej Chmiel",
      "userId": "01032980401837788346"
     }
    },
    "outputId": "93aaa19c-24f9-431a-8c4a-2b0e3436ad80"
   },
   "outputs": [
    {
     "output_type": "execute_result",
     "data": {
      "text/plain": [
       "'cuda'"
      ],
      "application/vnd.google.colaboratory.intrinsic+json": {
       "type": "string"
      }
     },
     "metadata": {},
     "execution_count": 8
    }
   ],
   "source": [
    "DEVICE = \"cuda\" if torch.cuda.is_available() else \"cpu\"\n",
    "DEVICE"
   ]
  },
  {
   "cell_type": "code",
   "execution_count": 9,
   "metadata": {
    "id": "Bnej8iGMt_w4",
    "colab": {
     "base_uri": "https://localhost:8080/"
    },
    "executionInfo": {
     "status": "ok",
     "timestamp": 1652707156720,
     "user_tz": -120,
     "elapsed": 16664,
     "user": {
      "displayName": "Jędrzej Chmiel",
      "userId": "01032980401837788346"
     }
    },
    "outputId": "38e9ab60-e2f5-417e-fcba-daf74f6cf60e"
   },
   "outputs": [
    {
     "output_type": "stream",
     "name": "stdout",
     "text": [
      "Mounted at /content/drive\n"
     ]
    }
   ],
   "source": [
    "drive.mount('/content/drive')"
   ]
  },
  {
   "cell_type": "code",
   "execution_count": 10,
   "metadata": {
    "id": "WuhW91W6vMRp",
    "executionInfo": {
     "status": "ok",
     "timestamp": 1652707156720,
     "user_tz": -120,
     "elapsed": 5,
     "user": {
      "displayName": "Jędrzej Chmiel",
      "userId": "01032980401837788346"
     }
    }
   },
   "outputs": [],
   "source": [
    "MAIN_DATA_DIR = 'drive/MyDrive/data_harry_potter'\n",
    "MAIN_TRAINING_DIR = 'drive/MyDrive/harry_potter_model_training'\n",
    "# MAIN_DATA_DIR = 'data'"
   ]
  },
  {
   "cell_type": "code",
   "execution_count": 11,
   "metadata": {
    "id": "ucAT7QTAt_w4",
    "executionInfo": {
     "status": "ok",
     "timestamp": 1652707157122,
     "user_tz": -120,
     "elapsed": 406,
     "user": {
      "displayName": "Jędrzej Chmiel",
      "userId": "01032980401837788346"
     }
    }
   },
   "outputs": [],
   "source": [
    "corpus = Corpus(MAIN_DATA_DIR+'/dictionary/second_dictionary_30_04.pickle')\n",
    "one_item_dataset = OneItemDataset(len(corpus))"
   ]
  },
  {
   "cell_type": "code",
   "execution_count": 12,
   "metadata": {
    "id": "0svU9iY0t_w4",
    "executionInfo": {
     "status": "ok",
     "timestamp": 1652707157122,
     "user_tz": -120,
     "elapsed": 5,
     "user": {
      "displayName": "Jędrzej Chmiel",
      "userId": "01032980401837788346"
     }
    }
   },
   "outputs": [],
   "source": [
    "# words_batch_datasets = [WordsBatchDataset(MAIN_DATA_DIR+'/harry_potter_books/prepared_txt/harry_potter_'+str(i)+'_prepared.txt', corpus.dictionary, sequence_length=6)\n",
    "#                         for i in range(1,8)]"
   ]
  },
  {
   "cell_type": "code",
   "source": [
    "def test_words_batch(model:WordsBatch, datasets: List[OneItemDataset], batch_size=2048) -> float:\n",
    "    \"\"\"\n",
    "Tests passed word batch model using all datasets and returns Mean Squared Error.\n",
    "Parameters:\n",
    "    model:\n",
    "        Object of WordsBatch class to be tested.\n",
    "    datasets:\n",
    "        List of objects of WordsBatchDataset class. Datasets on which model will be tested.\n",
    "    batch_size:\n",
    "        The batch size to use.\n",
    "Return:\n",
    "    MSE (Mean Squared Error)\n",
    "    \"\"\"\n",
    "    mse = 0.0\n",
    "    with torch.no_grad():\n",
    "      loss_function = nn.MSELoss(reduction='sum')\n",
    "      for dataset in datasets:\n",
    "        loader = DataLoader(dataset, batch_size=batch_size, shuffle=False, drop_last=False)\n",
    "        for X, y in loader:\n",
    "          X = X.to(DEVICE)\n",
    "          y = y.to(DEVICE)\n",
    "          y = model.embedding.to_dense(y)\n",
    "          pred = model(X)\n",
    "          loss = loss_function(pred, y)\n",
    "          mse +=  loss.item()\n",
    "    \n",
    "    total_length = sum([len(dataset) for dataset in datasets])\n",
    "    mse = mse / total_length\n",
    "    return mse"
   ],
   "metadata": {
    "id": "t_N5C7eOmLju",
    "executionInfo": {
     "status": "ok",
     "timestamp": 1652707157123,
     "user_tz": -120,
     "elapsed": 5,
     "user": {
      "displayName": "Jędrzej Chmiel",
      "userId": "01032980401837788346"
     }
    }
   },
   "execution_count": 13,
   "outputs": []
  },
  {
   "cell_type": "code",
   "execution_count": 14,
   "metadata": {
    "id": "qjVCsVrit_w5",
    "executionInfo": {
     "status": "ok",
     "timestamp": 1652707157123,
     "user_tz": -120,
     "elapsed": 4,
     "user": {
      "displayName": "Jędrzej Chmiel",
      "userId": "01032980401837788346"
     }
    }
   },
   "outputs": [],
   "source": [
    "def train_words_batch(model:WordsBatch, datasets: List[OneItemDataset], batch_size: int, epochs: int,\n",
    "                    optimizer: optim.Optimizer, saves_dir:str = None, results:Dict[str, int or float] = None,\n",
    "                    start_epoch:int = 0):\n",
    "    \"\"\"\n",
    "This function trains words_batch model. It uses MSE loss function to do this.\n",
    "Parameters:\n",
    "    model:\n",
    "        Model to be trained. Object of WordsBatch class.\n",
    "    datasets:\n",
    "        List of all datasets on which model will be trained. First function uses all inputs from first dataset,\n",
    "        then all input from second dataset, ..., then all outputs from last dataset. This is the end of first epoch.\n",
    "    batch_size: the batch size to used\n",
    "    epochs: How many epochs to do.\n",
    "    optimizer: optimizer to use to update weights and biases.\n",
    "    saves_dir: If not None in this directory function will save the model after each epoch. Files will be named as\n",
    "        words_batch_epoch_1.pth, words_batch_epoch_2.pth, words_batch_epoch_3.pth, ...\n",
    "        If in passed directory already exist file called for example words_batch_epoch_1.pth it will be truncated.\n",
    "        If passed directory does not exist, it will be created.\n",
    "    results:\n",
    "        If saves_dir is None, then this argument is ignore.\n",
    "        If saves_dir is not none and results is non None, then after each epoch model is tested using test_words_batch\n",
    "        function and saves results in 'results' dictionary. Consequtives items of dictionary are named\n",
    "        'mse_after_epoch_i', where i is prevoius epoch nr. After each epoch function saves 'results' dictionary using\n",
    "        pickle module and as txt file. File are created in 'saves_dir' directory and named 'results.pickle', 'results.txt'.\n",
    "    start_epoch:\n",
    "        Number of first epoch. Important when funcction also tests models (if saves_dir and results are not None). If\n",
    "        start_epoch is 8 and epochs_is 5, then function will train model over epochs 8,9,10,11 and 12.\n",
    "    \"\"\"\n",
    "    model.train()\n",
    "    loss_function = nn.MSELoss()\n",
    "    loaders = [DataLoader(dataset, batch_size, shuffle=True) for dataset in datasets]\n",
    "    if saves_dir is not None:\n",
    "        if not os.path.exists(saves_dir):\n",
    "            os.makedirs(saves_dir)\n",
    "        with open(saves_dir+'/results.pickle', 'wb') as file:\n",
    "                    pickle.dump(results, file)\n",
    "        with open(saves_dir+'/results.txt', 'wt') as file:\n",
    "            for key, item in results.items():\n",
    "                file.write(key + ': ' + str(item) + '\\n')\n",
    "\n",
    "    end_epoch = start_epoch+epochs\n",
    "    for epoch in range(start_epoch, end_epoch):\n",
    "        for i,loader in enumerate(loaders):\n",
    "            print(f\"Epoch {epoch}/{end_epoch}, dataset {i+1}/7\")\n",
    "            for X, y in tqdm(loader, desc=\"batch: \"):\n",
    "                X = X.to(DEVICE)\n",
    "                with torch.no_grad():\n",
    "                    y = model.embedding.to_dense(y.to(DEVICE))\n",
    "                pred = model(X)\n",
    "                loss = loss_function(pred, y)\n",
    "                optimizer.zero_grad()\n",
    "                loss.backward()\n",
    "                optimizer.step()\n",
    "\n",
    "        if saves_dir is not None:\n",
    "            model.save(saves_dir+'/'+f\"words_batch_epoch_{epoch}.pth\")\n",
    "            if results is not None:\n",
    "                mse = test_words_batch(model, datasets)\n",
    "                print(f\"MSE is: {mse}\")\n",
    "                results[f'mse_after_epoch_{epoch}'] = mse\n",
    "                with open(saves_dir+'/results.pickle', 'wb') as file:\n",
    "                    pickle.dump(results, file)\n",
    "                with open(saves_dir+'/results.txt', 'at') as file:\n",
    "                    file.write(f'mse_after_epoch_{epoch} : {mse}\\n')\n",
    "                model.train()"
   ]
  },
  {
   "cell_type": "code",
   "execution_count": 16,
   "metadata": {
    "id": "M6LdFTmnt_w6",
    "executionInfo": {
     "status": "ok",
     "timestamp": 1652707157563,
     "user_tz": -120,
     "elapsed": 12,
     "user": {
      "displayName": "Jędrzej Chmiel",
      "userId": "01032980401837788346"
     }
    }
   },
   "outputs": [],
   "source": [
    "def test_encoding(model: Embedding, dataset: OneItemDataset, batch_size=1024) -> :\n",
    "    \"\"\"\n",
    "Tests passed embedding model using all datasets and returns accuracy factor.\n",
    "(Accuracy factor is number of correctly classified samples devided by number of all samples.)\n",
    "Parameters:\n",
    "    model:\n",
    "        Object of Embedding class to be tested.\n",
    "    datasets:\n",
    "        Object of OneItemDataset class. Data on which to test.\n",
    "    batch_size:\n",
    "        Size of batch to use.\n",
    "\n",
    "Return:\n",
    "    Accuracy factor (float).\n",
    "    (Accuracy factor is number of correctly classified samples devided by number of all samples.)\n",
    "    \"\"\"\n",
    "    acurate = 0\n",
    "    model.eval()\n",
    "    with torch.no_grad():\n",
    "        loader = DataLoader(dataset, batch_size=batch_size, shuffle=False, drop_last=False)\n",
    "        for y in loader:\n",
    "            y = y.to(DEVICE)\n",
    "            X = model.to_dense(y)\n",
    "            pred = model(X)\n",
    "            acurate += torch.count_nonzero(torch.argmin(pred,dim=1)==y).item()\n",
    "    result = acurate/len(dataset)\n",
    "    return  result"
   ]
  },
  {
   "cell_type": "code",
   "execution_count": 15,
   "outputs": [],
   "source": [
    "def train_encoding(model: Embedding, dataset: OneItemDataset,  batch_size: int, epochs: int,\n",
    "                    optimizer: optim.Optimizer, saves_dir:str = None, results:Dict[str, int or float] = None,\n",
    "                    start_epoch:int = 0, checkpoint_frequency:int = 1):\n",
    "    \"\"\"\n",
    "This function trains encoding part of Embedding class object. It uses CrossEntropyLoss.\n",
    "Parameters:\n",
    "    model:\n",
    "        Model to be trained. Object of Embedding class.\n",
    "    datasets:\n",
    "        Object of OneItemDataset class. Data on which to train.\n",
    "    batch_size: The batch size to used.\n",
    "    epochs: How many epochs to do.\n",
    "    optimizer: optimizer to use to update weights and biases.\n",
    "    saves_dir: If not None in this directory function will save the model after each epoch. Files will be named as\n",
    "        words_batch_epoch_1.pth, words_batch_epoch_2.pth, words_batch_epoch_3.pth, ...\n",
    "        If in passed directory already exist file called for example words_batch_epoch_1.pth it will be truncated.\n",
    "        If passed directory does not exist, it will be created.\n",
    "    results:\n",
    "        If saves_dir is None, then this argument is ignore.\n",
    "        If saves_dir is not none and results is non None, then after each epoch model is tested using test_encoding\n",
    "        function and result is saved in 'results' dictionary. Consequtives items of dictionary are named\n",
    "        'accuracy_after_epoch_i', where i is prevoius epoch nr. After each epoch function saves 'results' dictionary using\n",
    "        pickle module and as txt file. File are created in 'saves_dir' directory and named 'results.pickle', 'results.txt'.\n",
    "    start_epoch:\n",
    "        Number of first epoch. Important when function also tests models (if saves_dir and results are not None). If\n",
    "        start_epoch is 8 and epochs_is 5, then function will train model over epochs 8,9,10,11 and 12.\n",
    "    frequency:\n",
    "        If saves_dir is None, then this argument is ignored.\n",
    "        After how many epochs to save and (or) test model. If frequency is 3, then model is saved after third epoch\n",
    "        of training, after sixth epoch of training and so on... Frequency of saving does not depend on start_epoch.\n",
    "        (It depends on number of epochs done by function, not by current_epoch number.)\n",
    "Returns:\n",
    "    List of acurate factor before each epoch.\n",
    "    \"\"\"\n",
    "\n",
    "    model.train()\n",
    "    loss_function = nn.CrossEntropyLoss()\n",
    "    acurate = 0\n",
    "    acurates = []\n",
    "    loader = DataLoader(dataset, batch_size, shuffle=True)\n",
    "\n",
    "    if saves_dir is not None:\n",
    "            if not os.path.exists(saves_dir):\n",
    "                os.makedirs(saves_dir)\n",
    "            with open(saves_dir+'/results.pickle', 'wb') as file:\n",
    "                        pickle.dump(results, file)\n",
    "            with open(saves_dir+'/results.txt', 'wt') as file:\n",
    "                for key, item in results.items():\n",
    "                    file.write(key + ': ' + str(item) + '\\n')\n",
    "\n",
    "    bar = tqdm(range(start_epoch, start_epoch+epochs), desc='Epoch')\n",
    "    for epoch in bar:\n",
    "        for y in loader:\n",
    "            y = y.to(DEVICE)\n",
    "            with torch.no_grad():\n",
    "                X = model.to_dense(y)\n",
    "            pred = model(X)\n",
    "            loss = loss_function(pred, y)\n",
    "            optimizer.zero_grad()\n",
    "            loss.backward()\n",
    "            optimizer.step()\n",
    "\n",
    "        if saves_dir is not None and (epoch-start_epoch) % checkpoint_frequency == 0:\n",
    "            model.save_encoding(saves_dir+'/'+f\"encoding_epoch_{epoch}.pth\")\n",
    "            if results is not None:\n",
    "                acurate = test_encoding(model, dataset)\n",
    "                bar.set_description(f\"Acurate is: {acurate:.15f}, epoch: \")\n",
    "                results[f'acurate_after_epoch_{epoch}'] = acurate\n",
    "                with open(saves_dir+'/results.pickle', 'wb') as file:\n",
    "                    pickle.dump(results, file)\n",
    "                with open(saves_dir+'/results.txt', 'at') as file:\n",
    "                    file.write(f'acurate_after_epoch_{epoch} : {acurate:.30f}\\n')\n",
    "                model.train()"
   ],
   "metadata": {
    "collapsed": false,
    "pycharm": {
     "name": "#%%\n"
    }
   }
  },
  {
   "cell_type": "code",
   "source": [
    "# dir_name = MAIN_DATA_DIR+'/models/'+ datetime.now().strftime(\"training_words_batch_%d_%m_%Y___%H_%M\")\n",
    "# dir_name = MAIN_DATA_DIR+'/models/training_words_batch_11_05_2022___08_59'"
   ],
   "metadata": {
    "id": "yRl3dg_h55G9",
    "executionInfo": {
     "status": "ok",
     "timestamp": 1652707157564,
     "user_tz": -120,
     "elapsed": 12,
     "user": {
      "displayName": "Jędrzej Chmiel",
      "userId": "01032980401837788346"
     }
    }
   },
   "execution_count": 17,
   "outputs": []
  },
  {
   "cell_type": "code",
   "execution_count": 18,
   "outputs": [],
   "source": [
    "# embedding = Embedding(corpus_size=len(corpus), embedding_size=64, dropout_factor=0.18, sizes=[128, 512])\n",
    "# embedding = embedding.to(DEVICE)\n",
    "# words_batch = WordsBatch(embedding, hidden_state_size=96, dropout_factor=0.18, sequence_length=6, dense_layer_size=256)\n",
    "# words_batch = words_batch.to(DEVICE)"
   ],
   "metadata": {
    "pycharm": {
     "name": "#%%\n"
    },
    "id": "zLxNs7ycA9pU",
    "executionInfo": {
     "status": "ok",
     "timestamp": 1652707157564,
     "user_tz": -120,
     "elapsed": 12,
     "user": {
      "displayName": "Jędrzej Chmiel",
      "userId": "01032980401837788346"
     }
    }
   }
  },
  {
   "cell_type": "code",
   "execution_count": 19,
   "metadata": {
    "id": "GqfmO4zKt_w7",
    "executionInfo": {
     "status": "ok",
     "timestamp": 1652707157564,
     "user_tz": -120,
     "elapsed": 11,
     "user": {
      "displayName": "Jędrzej Chmiel",
      "userId": "01032980401837788346"
     }
    }
   },
   "outputs": [],
   "source": [
    "# results = words_batch.info()\n",
    "# results['mse_initial'] = test_words_batch(words_batch, words_batch_datasets)"
   ]
  },
  {
   "cell_type": "code",
   "execution_count": 20,
   "outputs": [],
   "source": [
    "# words_batch = WordsBatch.load('/content/drive/MyDrive/data_harry_potter/models/training_words_batch_12_05_2022___09_22/words_batch_epoch_50.pth')\n",
    "# words_batch = words_batch.to(DEVICE)\n",
    "# with open(r'/content/drive/MyDrive/data_harry_potter/models/training_words_batch_12_05_2022___09_22/results.pickle', 'rb') as file:\n",
    "#   results = pickle.load(file)"
   ],
   "metadata": {
    "pycharm": {
     "name": "#%%\n"
    },
    "id": "iWMiZct-A9pU",
    "executionInfo": {
     "status": "ok",
     "timestamp": 1652707157564,
     "user_tz": -120,
     "elapsed": 11,
     "user": {
      "displayName": "Jędrzej Chmiel",
      "userId": "01032980401837788346"
     }
    }
   }
  },
  {
   "cell_type": "code",
   "source": [
    "# for i in range(51, 64):\n",
    "#   results.pop(f'mse_after_epoch_{i}')"
   ],
   "metadata": {
    "id": "vL8qnSw0HeMO",
    "executionInfo": {
     "status": "ok",
     "timestamp": 1652707157564,
     "user_tz": -120,
     "elapsed": 11,
     "user": {
      "displayName": "Jędrzej Chmiel",
      "userId": "01032980401837788346"
     }
    }
   },
   "execution_count": 21,
   "outputs": []
  },
  {
   "cell_type": "code",
   "source": [
    "# optimizer_words_batch = optim.Adam(words_batch.parameters())\n",
    "# # results['optimizer_type'] = 'Adam'"
   ],
   "metadata": {
    "id": "_87OZ0f8aMMD",
    "executionInfo": {
     "status": "ok",
     "timestamp": 1652707157565,
     "user_tz": -120,
     "elapsed": 11,
     "user": {
      "displayName": "Jędrzej Chmiel",
      "userId": "01032980401837788346"
     }
    }
   },
   "execution_count": 22,
   "outputs": []
  },
  {
   "cell_type": "code",
   "source": [
    "# optimizer_words_batch = optim.SGD(words_batch.parameters(), lr=0.5)"
   ],
   "metadata": {
    "id": "cwVcbBq51alZ",
    "executionInfo": {
     "status": "ok",
     "timestamp": 1652707157565,
     "user_tz": -120,
     "elapsed": 11,
     "user": {
      "displayName": "Jędrzej Chmiel",
      "userId": "01032980401837788346"
     }
    }
   },
   "execution_count": 23,
   "outputs": []
  },
  {
   "cell_type": "code",
   "source": [
    "# train_words_batch(words_batch, words_batch_datasets, batch_size=16, epochs=10,\n",
    "#                   results=results, start_epoch=51, optimizer=optimizer_words_batch,\n",
    "#                   saves_dir=dir_name)"
   ],
   "metadata": {
    "id": "OJJugYoznzQi",
    "pycharm": {
     "is_executing": true
    },
    "executionInfo": {
     "status": "ok",
     "timestamp": 1652707157565,
     "user_tz": -120,
     "elapsed": 10,
     "user": {
      "displayName": "Jędrzej Chmiel",
      "userId": "01032980401837788346"
     }
    }
   },
   "execution_count": 24,
   "outputs": []
  },
  {
   "cell_type": "code",
   "source": [
    "# embedding_initial = Embedding(corpus_size=len(corpus), embedding_size=64, dropout_factor=0.18, sizes=[128, 512])\n",
    "# words_batch0 = WordsBatch.load('/content/drive/MyDrive/data_harry_potter/models/training_words_batch_11_05_2022___08_59/words_batch_epoch_0.pth')\n",
    "# words_batch34 = WordsBatch.load('/content/drive/MyDrive/data_harry_potter/models/training_words_batch_11_05_2022___08_59/words_batch_epoch_34.pth')\n",
    "# words_batch61 = WordsBatch.load('/content/drive/MyDrive/data_harry_potter/models/training_words_batch_13_05_2022___09_19/words_batch_epoch_61.pth')\n",
    "# words_batch93 = WordsBatch.load('/content/drive/MyDrive/data_harry_potter/models/training_words_batch_13_05_2022___13_29/words_batch_epoch_93.pth')"
   ],
   "metadata": {
    "id": "jEH--OrlcZCc",
    "executionInfo": {
     "status": "ok",
     "timestamp": 1652707157565,
     "user_tz": -120,
     "elapsed": 10,
     "user": {
      "displayName": "Jędrzej Chmiel",
      "userId": "01032980401837788346"
     }
    }
   },
   "execution_count": 25,
   "outputs": []
  },
  {
   "cell_type": "code",
   "source": [
    "def check_distances(words: List[Tuple[str, str]], corpus: Corpus, embedding:Embedding):\n",
    "  for word1, word2 in words:  \n",
    "    dist = count_distance(word1, word2, corpus, embedding)\n",
    "    dist **= 2\n",
    "    print(f\"    Distance between words '{word1}' and '{word2}' is {dist}\")"
   ],
   "metadata": {
    "id": "9QxvOAD4jv9Z",
    "executionInfo": {
     "status": "ok",
     "timestamp": 1652707157565,
     "user_tz": -120,
     "elapsed": 10,
     "user": {
      "displayName": "Jędrzej Chmiel",
      "userId": "01032980401837788346"
     }
    }
   },
   "execution_count": 26,
   "outputs": []
  },
  {
   "cell_type": "code",
   "source": [
    "words = [('cat', 'dog'), ('cat', 'going'), ('hermione', 'water'), ('hermione', 'harry'),\n",
    "         ('is', 'being'), ('is', 'was'), ('hagrid', 'dumbledore'), ('snake', 'snakes'),\n",
    "         ('book', 'brilliant'), ('food', 'voldemort'), ('girl', 'boy'), ('girls', 'boys')]"
   ],
   "metadata": {
    "id": "Rb-kwtGHgWyB",
    "executionInfo": {
     "status": "ok",
     "timestamp": 1652707157565,
     "user_tz": -120,
     "elapsed": 9,
     "user": {
      "displayName": "Jędrzej Chmiel",
      "userId": "01032980401837788346"
     }
    }
   },
   "execution_count": 27,
   "outputs": []
  },
  {
   "cell_type": "code",
   "source": [
    "# print(\"For initial words_batch: \")\n",
    "# check_distances(words, corpus, embedding_initial)"
   ],
   "metadata": {
    "id": "LZpJC6M1hDzw",
    "executionInfo": {
     "status": "ok",
     "timestamp": 1652707157566,
     "user_tz": -120,
     "elapsed": 10,
     "user": {
      "displayName": "Jędrzej Chmiel",
      "userId": "01032980401837788346"
     }
    }
   },
   "execution_count": 28,
   "outputs": []
  },
  {
   "cell_type": "code",
   "source": [
    "# print(\"For words_batch0: \")\n",
    "# check_distances(words, corpus, words_batch0.embedding)"
   ],
   "metadata": {
    "id": "onbN9GIKdmuN",
    "executionInfo": {
     "status": "ok",
     "timestamp": 1652707157566,
     "user_tz": -120,
     "elapsed": 9,
     "user": {
      "displayName": "Jędrzej Chmiel",
      "userId": "01032980401837788346"
     }
    }
   },
   "execution_count": 29,
   "outputs": []
  },
  {
   "cell_type": "code",
   "source": [
    "# print(\"For words_batch34: \")\n",
    "# check_distances(words, corpus, words_batch34.embedding)"
   ],
   "metadata": {
    "id": "Lk8BRKLlgUMS",
    "executionInfo": {
     "status": "ok",
     "timestamp": 1652707157566,
     "user_tz": -120,
     "elapsed": 9,
     "user": {
      "displayName": "Jędrzej Chmiel",
      "userId": "01032980401837788346"
     }
    }
   },
   "execution_count": 30,
   "outputs": []
  },
  {
   "cell_type": "code",
   "source": [
    "# print(\"For words_batch61: \")\n",
    "# check_distances(words, corpus, words_batch61.embedding)"
   ],
   "metadata": {
    "id": "OhiioQtwh0BI",
    "executionInfo": {
     "status": "ok",
     "timestamp": 1652707157566,
     "user_tz": -120,
     "elapsed": 9,
     "user": {
      "displayName": "Jędrzej Chmiel",
      "userId": "01032980401837788346"
     }
    }
   },
   "execution_count": 31,
   "outputs": []
  },
  {
   "cell_type": "code",
   "execution_count": 32,
   "outputs": [],
   "source": [
    "# print(\"For words_batch93: \")\n",
    "# check_distances(words, corpus, words_batch93.embedding)"
   ],
   "metadata": {
    "pycharm": {
     "name": "#%%\n"
    },
    "id": "CQjUqTENwYgs",
    "executionInfo": {
     "status": "ok",
     "timestamp": 1652707157566,
     "user_tz": -120,
     "elapsed": 9,
     "user": {
      "displayName": "Jędrzej Chmiel",
      "userId": "01032980401837788346"
     }
    }
   }
  },
  {
   "cell_type": "code",
   "source": [
    "embedding = Embedding(corpus_size = len(corpus), embedding_size = 64, sizes=[256, 512, 1024], dropout_factor=0.18)\n",
    "embedding = embedding.to(DEVICE)"
   ],
   "metadata": {
    "id": "Bs__AtLzJj12",
    "executionInfo": {
     "status": "ok",
     "timestamp": 1652708091338,
     "user_tz": -120,
     "elapsed": 337,
     "user": {
      "displayName": "Jędrzej Chmiel",
      "userId": "01032980401837788346"
     }
    }
   },
   "execution_count": 88,
   "outputs": []
  },
  {
   "cell_type": "code",
   "source": [
    "embedding.load_embedding(MAIN_DATA_DIR + '/models/embedding_embedding93.pth')"
   ],
   "metadata": {
    "colab": {
     "base_uri": "https://localhost:8080/"
    },
    "id": "rCLcIQzqLIoz",
    "executionInfo": {
     "status": "ok",
     "timestamp": 1652708091699,
     "user_tz": -120,
     "elapsed": 7,
     "user": {
      "displayName": "Jędrzej Chmiel",
      "userId": "01032980401837788346"
     }
    },
    "outputId": "703d50ff-e995-4eb1-f3d5-17da52b301ad"
   },
   "execution_count": 89,
   "outputs": [
    {
     "output_type": "execute_result",
     "data": {
      "text/plain": [
       "True"
      ]
     },
     "metadata": {},
     "execution_count": 89
    }
   ]
  },
  {
   "cell_type": "code",
   "source": [
    "dir_name = MAIN_DATA_DIR+'/models/'+ datetime.now().strftime(\"training_encoding_%d_%m_%Y___%H_%M\")\n",
    "dir_name"
   ],
   "metadata": {
    "colab": {
     "base_uri": "https://localhost:8080/",
     "height": 35
    },
    "id": "0iJGz9MdApvN",
    "executionInfo": {
     "status": "ok",
     "timestamp": 1652708091700,
     "user_tz": -120,
     "elapsed": 5,
     "user": {
      "displayName": "Jędrzej Chmiel",
      "userId": "01032980401837788346"
     }
    },
    "outputId": "45a75b98-9098-4ec0-e042-2a381e411271"
   },
   "execution_count": 90,
   "outputs": [
    {
     "output_type": "execute_result",
     "data": {
      "text/plain": [
       "'drive/MyDrive/data_harry_potter/models/training_encoding_16_05_2022___13_34'"
      ],
      "application/vnd.google.colaboratory.intrinsic+json": {
       "type": "string"
      }
     },
     "metadata": {},
     "execution_count": 90
    }
   ]
  },
  {
   "cell_type": "code",
   "source": [
    "results = embedding.info()\n",
    "results"
   ],
   "metadata": {
    "colab": {
     "base_uri": "https://localhost:8080/"
    },
    "id": "aMd1Krm2wo_E",
    "executionInfo": {
     "status": "ok",
     "timestamp": 1652708092072,
     "user_tz": -120,
     "elapsed": 2,
     "user": {
      "displayName": "Jędrzej Chmiel",
      "userId": "01032980401837788346"
     }
    },
    "outputId": "ed2cdec8-bbba-4be4-dd4a-29ad20ef0f8a"
   },
   "execution_count": 91,
   "outputs": [
    {
     "output_type": "execute_result",
     "data": {
      "text/plain": [
       "{'corpus_size': 21371,\n",
       " 'dropout_factor': 0.18,\n",
       " 'embedding_size': 64,\n",
       " 'sizes': [256, 512, 1024]}"
      ]
     },
     "metadata": {},
     "execution_count": 91
    }
   ]
  },
  {
   "cell_type": "code",
   "source": [
    "results[\"initial_acurate\"] = test_encoding(embedding, one_item_dataset)\n",
    "results"
   ],
   "metadata": {
    "colab": {
     "base_uri": "https://localhost:8080/"
    },
    "id": "dQq0lST9AzIF",
    "executionInfo": {
     "status": "ok",
     "timestamp": 1652708092778,
     "user_tz": -120,
     "elapsed": 440,
     "user": {
      "displayName": "Jędrzej Chmiel",
      "userId": "01032980401837788346"
     }
    },
    "outputId": "3876b18e-6f98-4769-b3b9-9314bfe8295d"
   },
   "execution_count": 92,
   "outputs": [
    {
     "output_type": "execute_result",
     "data": {
      "text/plain": [
       "{'corpus_size': 21371,\n",
       " 'dropout_factor': 0.18,\n",
       " 'embedding_size': 64,\n",
       " 'initial_acurate': 4.679238220017781e-05,\n",
       " 'sizes': [256, 512, 1024]}"
      ]
     },
     "metadata": {},
     "execution_count": 92
    }
   ]
  },
  {
   "cell_type": "code",
   "source": [
    ""
   ],
   "metadata": {
    "id": "SArc4efaCByu",
    "executionInfo": {
     "status": "ok",
     "timestamp": 1652708095442,
     "user_tz": -120,
     "elapsed": 3,
     "user": {
      "displayName": "Jędrzej Chmiel",
      "userId": "01032980401837788346"
     }
    }
   },
   "execution_count": 92,
   "outputs": []
  },
  {
   "cell_type": "code",
   "source": [
    "# encoding_optimizer = optim.Adam(embedding.parameters(), lr=0.000001)\n",
    "encoding_optimizer = optim.SGD(embedding.parameters(), lr=0.006)\n"
   ],
   "metadata": {
    "id": "g36n2vn5w6ki",
    "executionInfo": {
     "status": "ok",
     "timestamp": 1652708395661,
     "user_tz": -120,
     "elapsed": 353,
     "user": {
      "displayName": "Jędrzej Chmiel",
      "userId": "01032980401837788346"
     }
    }
   },
   "execution_count": 99,
   "outputs": []
  },
  {
   "cell_type": "code",
   "source": [
    "train_encoding(embedding, one_item_dataset, batch_size=16, epochs=10,\n",
    "               optimizer=encoding_optimizer, saves_dir=dir_name, results = results,\n",
    "               start_epoch=0, checkpoint_frequency=5)"
   ],
   "metadata": {
    "id": "VSgfN4zkBSIx",
    "colab": {
     "base_uri": "https://localhost:8080/"
    },
    "outputId": "667066cc-8df6-40ae-9561-d5fcccdf2e79"
   },
   "execution_count": null,
   "outputs": [
    {
     "output_type": "stream",
     "name": "stderr",
     "text": [
      "Acurate is: 0.000000000000000, epoch: :  70%|███████   | 7/10 [00:43<00:18,  6.19s/it]"
     ]
    }
   ]
  },
  {
   "cell_type": "code",
   "source": [
    ""
   ],
   "metadata": {
    "id": "jHhmKCNEMKqR",
    "executionInfo": {
     "status": "ok",
     "timestamp": 1652708380510,
     "user_tz": -120,
     "elapsed": 5,
     "user": {
      "displayName": "Jędrzej Chmiel",
      "userId": "01032980401837788346"
     }
    }
   },
   "execution_count": 98,
   "outputs": []
  }
 ],
 "metadata": {
  "accelerator": "GPU",
  "colab": {
   "collapsed_sections": [],
   "name": "training_embedding.ipynb",
   "provenance": []
  },
  "kernelspec": {
   "display_name": "Python 3",
   "language": "python",
   "name": "python3"
  },
  "language_info": {
   "codemirror_mode": {
    "name": "ipython",
    "version": 2
   },
   "file_extension": ".py",
   "mimetype": "text/x-python",
   "name": "python",
   "nbconvert_exporter": "python",
   "pygments_lexer": "ipython2",
   "version": "2.7.6"
  }
 },
 "nbformat": 4,
 "nbformat_minor": 0
}